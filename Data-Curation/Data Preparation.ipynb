{
 "cells": [
  {
   "cell_type": "code",
   "execution_count": null,
   "id": "3cbb1f4a-c95e-4b19-8867-390de041f261",
   "metadata": {},
   "outputs": [],
   "source": [
    "!pip install pandas\n",
    "!pip install requests\n",
    "!pip install -q -U google-genai\n",
    "!pip install pillow\n",
    "!pip install google-generativeai"
   ]
  },
  {
   "cell_type": "code",
   "execution_count": null,
   "id": "3c74f13d-a705-48f1-9aa1-35416319132f",
   "metadata": {},
   "outputs": [],
   "source": [
    "import os\n",
    "import pandas as pd\n",
    "import requests\n",
    "import json\n",
    "from google import genai\n",
    "import csv"
   ]
  },
  {
   "cell_type": "code",
   "execution_count": null,
   "id": "cdd5ae77-a1f5-4bf2-979a-d2ef287310f8",
   "metadata": {},
   "outputs": [],
   "source": [
    "IMAGES_BASE_DIR = os.path.join(\"abo-images-small\", \"images\")\n",
    "IMAGES_PATH = os.path.join(IMAGES_BASE_DIR, \"small\")\n",
    "IMAGES_METADATA_PATH = os.path.join(IMAGES_BASE_DIR, \"metadata\")\n",
    "IMAGES_METADATA_CSV = os.path.join(IMAGES_METADATA_PATH, \"images.csv\")\n",
    "\n",
    "LISTINGS_METADATA_PATH = os.path.join(\"abo-listings\", \"listings\", \"metadata\")"
   ]
  },
  {
   "cell_type": "code",
   "execution_count": null,
   "id": "3d790fc1-9bc1-403e-8f87-d9c56a98b9ca",
   "metadata": {},
   "outputs": [],
   "source": [
    "df = pd.read_csv(IMAGES_METADATA_CSV)"
   ]
  },
  {
   "cell_type": "code",
   "execution_count": null,
   "id": "5f012116-5b00-421e-8c99-26d6e1cadc83",
   "metadata": {},
   "outputs": [],
   "source": [
    "df.shape"
   ]
  },
  {
   "cell_type": "code",
   "execution_count": null,
   "id": "1cdfe4cf-0608-42d2-97cf-4c646df7534a",
   "metadata": {},
   "outputs": [],
   "source": [
    "df.head()"
   ]
  },
  {
   "cell_type": "code",
   "execution_count": null,
   "id": "ee4b803e-38ff-41cf-b56c-be571f1becf5",
   "metadata": {},
   "outputs": [],
   "source": [
    "json_files = os.listdir(LISTINGS_METADATA_PATH)"
   ]
  },
  {
   "cell_type": "code",
   "execution_count": null,
   "id": "a396ed18-b16f-4dfb-ba08-8fa45309e672",
   "metadata": {},
   "outputs": [],
   "source": [
    "json_file_paths = [os.path.join(LISTINGS_METADATA_PATH, filename) for filename in json_files]"
   ]
  },
  {
   "cell_type": "code",
   "execution_count": null,
   "id": "4bd4d10d-a782-4012-b5a3-896063695e65",
   "metadata": {},
   "outputs": [],
   "source": [
    "images_metadata = []\n",
    "for filepath in json_file_paths:\n",
    "    print(f\"[INFO] Reading {filepath}\")\n",
    "    with open(filepath, mode=\"r\", encoding=\"utf-8\") as read_file:\n",
    "        json_strings = read_file.readlines()\n",
    "        for json_string in json_strings:\n",
    "            images_metadata.append(json.loads(json_string))"
   ]
  },
  {
   "cell_type": "code",
   "execution_count": null,
   "id": "62add9b3-b093-4e51-8662-8bb1a36207e6",
   "metadata": {},
   "outputs": [],
   "source": [
    "for i in range(147712):\n",
    "    description_data = images_metadata[i].get(\"pattern\", [])\n",
    "    if description_data:\n",
    "        print(i)\n",
    "        break\n",
    "  "
   ]
  },
  {
   "cell_type": "code",
   "execution_count": null,
   "id": "79081011-54b5-473c-9640-3e3aafe54ad9",
   "metadata": {},
   "outputs": [],
   "source": [
    "len(images_metadata)"
   ]
  },
  {
   "cell_type": "code",
   "execution_count": null,
   "id": "0ed6cb08-2dfe-4af2-a372-72e0f7a05ba1",
   "metadata": {},
   "outputs": [],
   "source": [
    "def get_required_info(metadata):\n",
    "    keys1 = {\n",
    "                \"bullet_point\" : \"Bullet Points\", \n",
    "                 \"color\" : \"Colour\", \n",
    "                 \"fabric_type\" : \"Fabric Type\", \n",
    "                 \"finish_type\" : \"Finish Type\", \n",
    "                 \"item_keywords\" : \"Item Keywords\", \n",
    "                 \"item_name\" : \"Item Name\", \n",
    "                 \"item_shape\" : \"Item Shape\",\n",
    "                \"material\" : \"Material\", \n",
    "                 \"pattern\" : \"Pattern\", \n",
    "                 \"product_description\" : \"Product Description\", \n",
    "                 \"style\" : \"Style\"\n",
    "            } # Format: [{ \"language_tag\": <str>, \"value\": <str> }, ...]\n",
    "    keys2 = {\"color\" : \"Colours\"} # Format: [{\"language_tag\": <str>, \"standardized_values\": [<str>],\"value\": <str>}, ...]\n",
    "    keys3 = {\"product_type\" : \"Product Type\"} # Format: <str>\n",
    "\n",
    "    strings = []\n",
    "\n",
    "\n",
    "    for key in keys1.keys():\n",
    "        lis = metadata.get(key, [])\n",
    "        vals = set()\n",
    "        for entry in lis:\n",
    "            lang = entry[\"language_tag\"]\n",
    "            val = entry[\"value\"]\n",
    "            if lang.lower().startswith(\"en\"):\n",
    "                vals.add(val)\n",
    "        if vals:\n",
    "            strings.append(keys1[key] + \": \" + \", \".join(vals))\n",
    "\n",
    "    for key in keys2.keys():\n",
    "        lis = metadata.get(key, [])\n",
    "        vals = set()\n",
    "        for entry in lis:\n",
    "            lang = entry[\"language_tag\"]\n",
    "            val = entry[\"value\"]\n",
    "            std_vals = entry.get(\"standardized_values\", [])\n",
    "            if lang.lower().startswith(\"en\"):\n",
    "                vals.add(val)\n",
    "                vals = vals | set(std_vals)\n",
    "        if vals:\n",
    "            strings.append(keys2[key] + \": \" + \", \".join(vals))\n",
    "\n",
    "    for key in keys3.keys():\n",
    "        lis = metadata.get(key, [])\n",
    "        vals = set()\n",
    "        for entry in lis:\n",
    "            val = entry[\"value\"]\n",
    "            vals.add(val)\n",
    "        if vals:\n",
    "            strings.append(keys3[key] + \": \" + \", \".join(vals))\n",
    "\n",
    "    return strings  "
   ]
  },
  {
   "cell_type": "code",
   "execution_count": null,
   "id": "9be88c0c-94a6-42f4-9ab9-c8ac90a89ffd",
   "metadata": {},
   "outputs": [],
   "source": [
    "def get_main_image_path(metadata, df):\n",
    "    img_id = metadata[\"main_image_id\"]\n",
    "    img_entry = df[df[\"image_id\"] == img_id]\n",
    "    img_path = os.path.join(IMAGES_PATH, img_entry[\"path\"].iloc[0])\n",
    "\n",
    "    return img_path\n",
    "\n",
    "def get_other_image_paths(metadata, df):\n",
    "    img_ids = metadata[\"other_image_id\"]\n",
    "    img_paths = []\n",
    "    for img_id in img_ids:\n",
    "        img_entry = df[df[\"image_id\"] == img_id]\n",
    "        img_path = os.path.join(IMAGES_PATH, img_entry[\"path\"].iloc[0])\n",
    "        img_paths.append(img_path)\n",
    "\n",
    "    return img_paths"
   ]
  },
  {
   "cell_type": "code",
   "execution_count": null,
   "id": "a11e204d-078c-4309-b4b9-741fff0b0664",
   "metadata": {},
   "outputs": [],
   "source": [
    "img_path = get_main_image_path(images_metadata[18], df)"
   ]
  },
  {
   "cell_type": "code",
   "execution_count": null,
   "id": "92385f26-2a73-43b3-ba43-cf031e9c674a",
   "metadata": {},
   "outputs": [],
   "source": [
    "def get_response(client, img_path, metadata):\n",
    "    img = client.files.upload(file=img_path)\n",
    "    \n",
    "    \n",
    "    response = client.models.generate_content(\n",
    "        model=\"gemini-2.0-flash\", \n",
    "        contents=[img, metadata, \"I am preparing a dataset to train a Visual Question Answering (VQA) model. \\\n",
    "        I have a set of images and corresponding metadata from Amazon product listings (Amazon Berkeley Object Dataset). \\\n",
    "        Using the image and its metadata, generate unambiguous questions with one-word answers which should be unambiguously answerable by 'SOLELY' looking at the image.\\\n",
    "        Since I need to automate parsing these question and answers, please provide them in CSV format: question, answer.\\\n",
    "        Please do not generate anything else other than question and answers as it makes it difficult to write an automated parser.\"]\n",
    "    )\n",
    "    \n",
    "    return response.text"
   ]
  },
  {
   "cell_type": "code",
   "execution_count": null,
   "id": "3a502cbd-4c7d-42a6-aec9-743b2e27818f",
   "metadata": {},
   "outputs": [],
   "source": [
    "client = genai.Client(api_key=\"API_KEY\") # Add your API key"
   ]
  },
  {
   "cell_type": "code",
   "execution_count": null,
   "id": "c2889377-2c43-4f59-95fa-f3c57d9dda84",
   "metadata": {},
   "outputs": [],
   "source": [
    "img_count = 0\n",
    "seen_paths = set()\n",
    "with open(\"main_image_qa_12.csv\", \"w\") as write_file:\n",
    "    for i, img_metadata in enumerate(images_metadata):\n",
    "        if (i+1) % 100 == 0:\n",
    "            print(f\"INFO: Images Processed: {(i+1)}/{len(images_metadata)} Images Used: {img_count}/{len(images_metadata)}\")\n",
    "\n",
    "        try:\n",
    "            req_info = get_required_info(img_metadata)\n",
    "            if len(req_info) < 5:\n",
    "                continue\n",
    "\n",
    "            metadata = \"\\n\".join(req_info)\n",
    "            image_path = get_main_image_path(img_metadata, df)\n",
    "\n",
    "            if image_path in seen_paths:\n",
    "                continue\n",
    "            else:\n",
    "                seen_paths.add(image_path)\n",
    "                    \n",
    "            response = get_response(client, image_path, metadata)\n",
    "\n",
    "            lis = response.split(\"\\n\")\n",
    "            qas = list(csv.reader(lis))\n",
    "            if not qas:\n",
    "                continue\n",
    "\n",
    "            qas = [qa for qa in qas if qa]\n",
    "\n",
    "            if qas[0] == ['```csv']:\n",
    "                del qas[0]\n",
    "                del qas[-1]\n",
    "            del qas[0]\n",
    "\n",
    "            if qas:\n",
    "                for qa in qas:\n",
    "                    if not qa:\n",
    "                        continue\n",
    "                    try:\n",
    "                        write_file.write(f\"{image_path}, \\\"{qa[0]}\\\", \\\"{qa[1]}\\\"\\n\")\n",
    "                    except IndexError:\n",
    "                        pass\n",
    "            img_count += 1\n",
    "        except Exception as e:\n",
    "            print(\"Error:\", e)"
   ]
  },
  {
   "cell_type": "code",
   "execution_count": null,
   "id": "54833549-7bb1-4d8a-b42a-198672d7ac9c",
   "metadata": {},
   "outputs": [],
   "source": []
  }
 ],
 "metadata": {
  "kernelspec": {
   "display_name": "vr_pr2_env",
   "language": "python",
   "name": "vr_pr2_env"
  },
  "language_info": {
   "codemirror_mode": {
    "name": "ipython",
    "version": 3
   },
   "file_extension": ".py",
   "mimetype": "text/x-python",
   "name": "python",
   "nbconvert_exporter": "python",
   "pygments_lexer": "ipython3",
   "version": "3.11.11"
  }
 },
 "nbformat": 4,
 "nbformat_minor": 5
}
